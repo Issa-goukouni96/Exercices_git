{
 "cells": [
  {
   "attachments": {},
   "cell_type": "markdown",
   "metadata": {},
   "source": [
    "A Crash Course in python \n",
    "chapitre 2 du livre Data Science from scratch"
   ]
  },
  {
   "cell_type": "code",
   "execution_count": 4,
   "metadata": {},
   "outputs": [
    {
     "name": "stdout",
     "output_type": "stream",
     "text": [
      "6\n"
     ]
    }
   ],
   "source": [
    "# the basics\n",
    "\n",
    "# functions \n",
    "\n",
    "# definition de la fonction\n",
    "\n",
    "def double(x):\n",
    "    \n",
    "   \"\"\" Cette fonction prend en entré un nombre x et retourne le double\n",
    "        ie multiple par 2 l'entrée x  \"\"\"\n",
    "   return x*2\n",
    "\n",
    "# tester \n",
    "\n",
    "print(double(3))"
   ]
  },
  {
   "cell_type": "code",
   "execution_count": 6,
   "metadata": {},
   "outputs": [
    {
     "name": "stdout",
     "output_type": "stream",
     "text": [
      "2\n"
     ]
    }
   ],
   "source": [
    "def apply_to_one(f):\n",
    "    \"\"\" cette fonction appel la fonction f avec l'argument 1 \"\"\"\n",
    "    return f(1)\n",
    "\n",
    "# tester\n",
    "\n",
    "my_double = apply_to_one(double)\n",
    "print(my_double)"
   ]
  },
  {
   "cell_type": "code",
   "execution_count": 8,
   "metadata": {},
   "outputs": [
    {
     "name": "stdout",
     "output_type": "stream",
     "text": [
      "5\n"
     ]
    }
   ],
   "source": [
    "# lambda function\n",
    "\n",
    "my_lambda = lambda x : x + 4\n",
    "y = apply_to_one(my_lambda)\n",
    "\n",
    "# afficher la sortie\n",
    "print(y)"
   ]
  },
  {
   "cell_type": "code",
   "execution_count": 10,
   "metadata": {},
   "outputs": [
    {
     "name": "stdout",
     "output_type": "stream",
     "text": [
      "6\n"
     ]
    }
   ],
   "source": [
    "def another_double(x): return x*2\n",
    "\n",
    "# teste\n",
    "\n",
    "print(another_double(3))"
   ]
  },
  {
   "cell_type": "code",
   "execution_count": 13,
   "metadata": {},
   "outputs": [
    {
     "name": "stdout",
     "output_type": "stream",
     "text": [
      "Hello\n",
      "My defaut message\n",
      "1\n",
      "0\n"
     ]
    }
   ],
   "source": [
    "def my_print(message=\"My defaut message\"):\n",
    "    return message\n",
    "\n",
    "# tester\n",
    "\n",
    "print(my_print(\"Hello\"))\n",
    "print(my_print())\n"
   ]
  },
  {
   "cell_type": "code",
   "execution_count": 15,
   "metadata": {},
   "outputs": [
    {
     "name": "stdout",
     "output_type": "stream",
     "text": [
      "1\n",
      "0\n",
      "9\n"
     ]
    }
   ],
   "source": [
    "def substract(a=0,b=0):\n",
    "    return a - b\n",
    "\n",
    "# tester\n",
    "print(substract(6,5))\n",
    "print(substract())\n",
    "print(substract(a=9))"
   ]
  },
  {
   "attachments": {},
   "cell_type": "markdown",
   "metadata": {},
   "source": [
    "String:"
   ]
  },
  {
   "cell_type": "code",
   "execution_count": 16,
   "metadata": {},
   "outputs": [
    {
     "name": "stdout",
     "output_type": "stream",
     "text": [
      "1\n"
     ]
    }
   ],
   "source": [
    "single_quoted_string = \"data science\"\n",
    "double_quoted_string = 'data science'\n",
    "\n",
    "tab_string = \"\\t\"\n",
    "print(len(tab_string))\n"
   ]
  },
  {
   "cell_type": "code",
   "execution_count": 17,
   "metadata": {},
   "outputs": [
    {
     "name": "stdout",
     "output_type": "stream",
     "text": [
      "2\n"
     ]
    }
   ],
   "source": [
    "not_tab_string = r'\\t'\n",
    "print(len(not_tab_string))"
   ]
  },
  {
   "attachments": {},
   "cell_type": "markdown",
   "metadata": {},
   "source": [
    "Exceptions:"
   ]
  },
  {
   "cell_type": "code",
   "execution_count": null,
   "metadata": {},
   "outputs": [],
   "source": []
  },
  {
   "cell_type": "code",
   "execution_count": null,
   "metadata": {},
   "outputs": [],
   "source": []
  }
 ],
 "metadata": {
  "kernelspec": {
   "display_name": "base_numpy",
   "language": "python",
   "name": "python3"
  },
  "language_info": {
   "codemirror_mode": {
    "name": "ipython",
    "version": 3
   },
   "file_extension": ".py",
   "mimetype": "text/x-python",
   "name": "python",
   "nbconvert_exporter": "python",
   "pygments_lexer": "ipython3",
   "version": "3.11.4"
  },
  "orig_nbformat": 4
 },
 "nbformat": 4,
 "nbformat_minor": 2
}
